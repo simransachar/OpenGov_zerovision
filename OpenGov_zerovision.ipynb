{
 "cells": [
  {
   "cell_type": "code",
   "execution_count": 9,
   "metadata": {
    "collapsed": true
   },
   "outputs": [],
   "source": [
    "import numpy as np\n",
    "import csv\n",
    "import pandas as pd"
   ]
  },
  {
   "cell_type": "code",
   "execution_count": 2,
   "metadata": {
    "collapsed": false
   },
   "outputs": [
    {
     "name": "stderr",
     "output_type": "stream",
     "text": [
      "/Users/simranjitsachar/anaconda/lib/python2.7/site-packages/pandas/io/parsers.py:1170: DtypeWarning: Columns (72,73) have mixed types. Specify dtype option on import or set low_memory=False.\n",
      "  data = self._reader.read(nrows)\n"
     ]
    },
    {
     "data": {
      "text/html": [
       "<div>\n",
       "<table border=\"1\" class=\"dataframe\">\n",
       "  <thead>\n",
       "    <tr style=\"text-align: right;\">\n",
       "      <th></th>\n",
       "      <th>﻿X</th>\n",
       "      <th>Y</th>\n",
       "      <th>OBJECTID</th>\n",
       "      <th>COMPLAINTNUMBER</th>\n",
       "      <th>ACCIDENTDATE</th>\n",
       "      <th>YEAR</th>\n",
       "      <th>DATEENTERED</th>\n",
       "      <th>MILITARYTIME</th>\n",
       "      <th>DAYOFWEEK</th>\n",
       "      <th>REPORTDATE</th>\n",
       "      <th>...</th>\n",
       "      <th>REVISED_QUADRANT</th>\n",
       "      <th>RECORDREMA</th>\n",
       "      <th>LASTUPDATE</th>\n",
       "      <th>ENTEREDBY</th>\n",
       "      <th>LATITUDE</th>\n",
       "      <th>LONGITUDE</th>\n",
       "      <th>IMPAIRMENT</th>\n",
       "      <th>STREETSEGID</th>\n",
       "      <th>TAXIINVOLVED</th>\n",
       "      <th>TOURBUSINVOLVED</th>\n",
       "    </tr>\n",
       "  </thead>\n",
       "  <tbody>\n",
       "    <tr>\n",
       "      <th>0</th>\n",
       "      <td>-77.097015</td>\n",
       "      <td>38.947120</td>\n",
       "      <td>445</td>\n",
       "      <td>12076031</td>\n",
       "      <td>01-JUN-12</td>\n",
       "      <td>2012</td>\n",
       "      <td>04-FEB-14</td>\n",
       "      <td>1254</td>\n",
       "      <td>Friday</td>\n",
       "      <td>02-JUN-12</td>\n",
       "      <td>...</td>\n",
       "      <td>1</td>\n",
       "      <td>NEW,LVL:2</td>\n",
       "      <td>04-FEB-14</td>\n",
       "      <td>MPD</td>\n",
       "      <td>38.947113</td>\n",
       "      <td>-77.097013</td>\n",
       "      <td>NaN</td>\n",
       "      <td>2356</td>\n",
       "      <td>NaN</td>\n",
       "      <td>NaN</td>\n",
       "    </tr>\n",
       "    <tr>\n",
       "      <th>1</th>\n",
       "      <td>-77.097009</td>\n",
       "      <td>38.919510</td>\n",
       "      <td>446</td>\n",
       "      <td>13167289</td>\n",
       "      <td>20-NOV-13</td>\n",
       "      <td>2013</td>\n",
       "      <td>20-NOV-13</td>\n",
       "      <td>1626</td>\n",
       "      <td>Wednesday</td>\n",
       "      <td>20-NOV-13</td>\n",
       "      <td>...</td>\n",
       "      <td>1</td>\n",
       "      <td>NEW,LVL:2</td>\n",
       "      <td>20-NOV-13</td>\n",
       "      <td>MPD</td>\n",
       "      <td>38.919502</td>\n",
       "      <td>-77.097007</td>\n",
       "      <td>NaN</td>\n",
       "      <td>7198</td>\n",
       "      <td>NaN</td>\n",
       "      <td>NaN</td>\n",
       "    </tr>\n",
       "    <tr>\n",
       "      <th>2</th>\n",
       "      <td>-77.096995</td>\n",
       "      <td>38.943390</td>\n",
       "      <td>447</td>\n",
       "      <td>12057272</td>\n",
       "      <td>27-APR-12</td>\n",
       "      <td>2012</td>\n",
       "      <td>27-APR-12</td>\n",
       "      <td>1615</td>\n",
       "      <td>Friday</td>\n",
       "      <td>27-APR-12</td>\n",
       "      <td>...</td>\n",
       "      <td>1</td>\n",
       "      <td>NEW,LVL:2</td>\n",
       "      <td>27-APR-12</td>\n",
       "      <td>MPD</td>\n",
       "      <td>38.943382</td>\n",
       "      <td>-77.096992</td>\n",
       "      <td>NaN</td>\n",
       "      <td>10734</td>\n",
       "      <td>NaN</td>\n",
       "      <td>NaN</td>\n",
       "    </tr>\n",
       "    <tr>\n",
       "      <th>3</th>\n",
       "      <td>-77.096987</td>\n",
       "      <td>38.915828</td>\n",
       "      <td>448</td>\n",
       "      <td>15023562</td>\n",
       "      <td>17-FEB-15</td>\n",
       "      <td>2015</td>\n",
       "      <td>24-FEB-15</td>\n",
       "      <td>945</td>\n",
       "      <td>Tuesday</td>\n",
       "      <td>17-FEB-15</td>\n",
       "      <td>...</td>\n",
       "      <td>1</td>\n",
       "      <td>NEW,LVL:2</td>\n",
       "      <td>24-FEB-15</td>\n",
       "      <td>MPD</td>\n",
       "      <td>38.915820</td>\n",
       "      <td>-77.096985</td>\n",
       "      <td>NaN</td>\n",
       "      <td>3429</td>\n",
       "      <td>NaN</td>\n",
       "      <td>NaN</td>\n",
       "    </tr>\n",
       "    <tr>\n",
       "      <th>4</th>\n",
       "      <td>-77.096949</td>\n",
       "      <td>38.918073</td>\n",
       "      <td>449</td>\n",
       "      <td>11061645</td>\n",
       "      <td>04-MAY-11</td>\n",
       "      <td>2011</td>\n",
       "      <td>09-MAY-11</td>\n",
       "      <td>2030</td>\n",
       "      <td>Wednesday</td>\n",
       "      <td>04-MAY-11</td>\n",
       "      <td>...</td>\n",
       "      <td>1</td>\n",
       "      <td>NEW,LVL:1</td>\n",
       "      <td>09-MAY-11</td>\n",
       "      <td>MPD</td>\n",
       "      <td>38.918065</td>\n",
       "      <td>-77.096947</td>\n",
       "      <td>NaN</td>\n",
       "      <td>927</td>\n",
       "      <td>NaN</td>\n",
       "      <td>NaN</td>\n",
       "    </tr>\n",
       "  </tbody>\n",
       "</table>\n",
       "<p>5 rows × 74 columns</p>\n",
       "</div>"
      ],
      "text/plain": [
       "          ﻿X          Y  OBJECTID  COMPLAINTNUMBER ACCIDENTDATE  YEAR  \\\n",
       "0 -77.097015  38.947120       445         12076031    01-JUN-12  2012   \n",
       "1 -77.097009  38.919510       446         13167289    20-NOV-13  2013   \n",
       "2 -77.096995  38.943390       447         12057272    27-APR-12  2012   \n",
       "3 -77.096987  38.915828       448         15023562    17-FEB-15  2015   \n",
       "4 -77.096949  38.918073       449         11061645    04-MAY-11  2011   \n",
       "\n",
       "  DATEENTERED  MILITARYTIME  DAYOFWEEK REPORTDATE       ...         \\\n",
       "0   04-FEB-14          1254     Friday  02-JUN-12       ...          \n",
       "1   20-NOV-13          1626  Wednesday  20-NOV-13       ...          \n",
       "2   27-APR-12          1615     Friday  27-APR-12       ...          \n",
       "3   24-FEB-15           945    Tuesday  17-FEB-15       ...          \n",
       "4   09-MAY-11          2030  Wednesday  04-MAY-11       ...          \n",
       "\n",
       "  REVISED_QUADRANT RECORDREMA LASTUPDATE  ENTEREDBY   LATITUDE  LONGITUDE  \\\n",
       "0                1  NEW,LVL:2  04-FEB-14        MPD  38.947113 -77.097013   \n",
       "1                1  NEW,LVL:2  20-NOV-13        MPD  38.919502 -77.097007   \n",
       "2                1  NEW,LVL:2  27-APR-12        MPD  38.943382 -77.096992   \n",
       "3                1  NEW,LVL:2  24-FEB-15        MPD  38.915820 -77.096985   \n",
       "4                1  NEW,LVL:1  09-MAY-11        MPD  38.918065 -77.096947   \n",
       "\n",
       "   IMPAIRMENT  STREETSEGID  TAXIINVOLVED  TOURBUSINVOLVED  \n",
       "0         NaN         2356           NaN              NaN  \n",
       "1         NaN         7198           NaN              NaN  \n",
       "2         NaN        10734           NaN              NaN  \n",
       "3         NaN         3429           NaN              NaN  \n",
       "4         NaN          927           NaN              NaN  \n",
       "\n",
       "[5 rows x 74 columns]"
      ]
     },
     "execution_count": 2,
     "metadata": {},
     "output_type": "execute_result"
    }
   ],
   "source": [
    "# import data from csv into dataframe\n",
    "crash_data = pd.read_csv('Vehicular_Crash_Data.csv')\n",
    "#show the data\n",
    "crash_data.head()"
   ]
  },
  {
   "cell_type": "code",
   "execution_count": 11,
   "metadata": {
    "collapsed": false
   },
   "outputs": [],
   "source": [
    "# classify military time\n",
    "crash_data['Time_cat'] = \"NA\"\n",
    "def func(row):\n",
    "    if row['MILITARYTIME'] >= 0 and row['MILITARYTIME'] < 0700:\n",
    "        return 'Overnight'\n",
    "    elif row['MILITARYTIME'] >= 0700 and row['MILITARYTIME'] < 1000:\n",
    "        return 'AM_rush'\n",
    "    elif row['MILITARYTIME'] >= 1000 and row['MILITARYTIME'] < 1200:\n",
    "        return 'AM_norush'\n",
    "    elif row['MILITARYTIME'] >= 1200 and row['MILITARYTIME'] < 1600:\n",
    "        return 'PM_norush'\n",
    "    elif row['MILITARYTIME'] >= 1600 and row['MILITARYTIME'] < 1800:\n",
    "        return 'AM_norush'\n",
    "    elif row['MILITARYTIME'] >= 1800 and row['MILITARYTIME'] < 2200:\n",
    "        return 'Evening'\n",
    "    elif row['MILITARYTIME'] >= 2200:\n",
    "        return 'Overnight'\n",
    "    else:\n",
    "        return 'NoTime'\n",
    "crash_data['Time_cat'] = crash_data.apply(func, axis=1)"
   ]
  },
  {
   "cell_type": "code",
   "execution_count": 24,
   "metadata": {
    "collapsed": true
   },
   "outputs": [],
   "source": [
    "# clean weather by making 'others' as consolidated value for junk data \n",
    "def func(row):\n",
    "    if row['WEATHER'] == 'Rain':\n",
    "         return 'Rain'\n",
    "    elif row['WEATHER'] == 'Clear':\n",
    "        return 'Clear'\n",
    "    elif row['WEATHER'] == 'Snow':\n",
    "        return 'Snow'\n",
    "    elif row['WEATHER'] == 'Fog/Mist':\n",
    "        return 'Fog/Mist'\n",
    "    elif row['WEATHER'] == 'Severe Crosswind':\n",
    "        return 'Severe Crosswind'\n",
    "    else:\n",
    "        return 'others'\n",
    "crash_data['weather_cat'] = crash_data.apply(func, axis=1)"
   ]
  },
  {
   "cell_type": "code",
   "execution_count": 13,
   "metadata": {
    "collapsed": false
   },
   "outputs": [
    {
     "data": {
      "text/html": [
       "<div>\n",
       "<table border=\"1\" class=\"dataframe\">\n",
       "  <thead>\n",
       "    <tr style=\"text-align: right;\">\n",
       "      <th></th>\n",
       "      <th>Time_cat</th>\n",
       "      <th>MILITARYTIME</th>\n",
       "      <th>WEATHER</th>\n",
       "    </tr>\n",
       "  </thead>\n",
       "  <tbody>\n",
       "    <tr>\n",
       "      <th>0</th>\n",
       "      <td>PM_norush</td>\n",
       "      <td>1254</td>\n",
       "      <td>Rain</td>\n",
       "    </tr>\n",
       "    <tr>\n",
       "      <th>1</th>\n",
       "      <td>AM_norush</td>\n",
       "      <td>1626</td>\n",
       "      <td>Clear</td>\n",
       "    </tr>\n",
       "    <tr>\n",
       "      <th>2</th>\n",
       "      <td>AM_norush</td>\n",
       "      <td>1615</td>\n",
       "      <td>Clear</td>\n",
       "    </tr>\n",
       "    <tr>\n",
       "      <th>3</th>\n",
       "      <td>AM_rush</td>\n",
       "      <td>945</td>\n",
       "      <td>Snow</td>\n",
       "    </tr>\n",
       "    <tr>\n",
       "      <th>4</th>\n",
       "      <td>Evening</td>\n",
       "      <td>2030</td>\n",
       "      <td>Clear</td>\n",
       "    </tr>\n",
       "  </tbody>\n",
       "</table>\n",
       "</div>"
      ],
      "text/plain": [
       "    Time_cat  MILITARYTIME WEATHER\n",
       "0  PM_norush          1254    Rain\n",
       "1  AM_norush          1626   Clear\n",
       "2  AM_norush          1615   Clear\n",
       "3    AM_rush           945    Snow\n",
       "4    Evening          2030   Clear"
      ]
     },
     "execution_count": 13,
     "metadata": {},
     "output_type": "execute_result"
    }
   ],
   "source": [
    "# showing the data\n",
    "crash_data[['Time_cat','MILITARYTIME','WEATHER']].head()"
   ]
  },
  {
   "cell_type": "code",
   "execution_count": 26,
   "metadata": {
    "collapsed": false
   },
   "outputs": [
    {
     "data": {
      "text/html": [
       "<div>\n",
       "<table border=\"1\" class=\"dataframe\">\n",
       "  <thead>\n",
       "    <tr style=\"text-align: right;\">\n",
       "      <th></th>\n",
       "      <th>Time_cat</th>\n",
       "      <th>weather_cat</th>\n",
       "      <th>STREETSEGID</th>\n",
       "    </tr>\n",
       "  </thead>\n",
       "  <tbody>\n",
       "    <tr>\n",
       "      <th>0</th>\n",
       "      <td>AM_norush</td>\n",
       "      <td>Clear</td>\n",
       "      <td>20451</td>\n",
       "    </tr>\n",
       "    <tr>\n",
       "      <th>1</th>\n",
       "      <td>AM_norush</td>\n",
       "      <td>Fog/Mist</td>\n",
       "      <td>157</td>\n",
       "    </tr>\n",
       "    <tr>\n",
       "      <th>2</th>\n",
       "      <td>AM_norush</td>\n",
       "      <td>Rain</td>\n",
       "      <td>2404</td>\n",
       "    </tr>\n",
       "    <tr>\n",
       "      <th>3</th>\n",
       "      <td>AM_norush</td>\n",
       "      <td>Severe Crosswind</td>\n",
       "      <td>67</td>\n",
       "    </tr>\n",
       "    <tr>\n",
       "      <th>4</th>\n",
       "      <td>AM_norush</td>\n",
       "      <td>Snow</td>\n",
       "      <td>400</td>\n",
       "    </tr>\n",
       "  </tbody>\n",
       "</table>\n",
       "</div>"
      ],
      "text/plain": [
       "    Time_cat       weather_cat  STREETSEGID\n",
       "0  AM_norush             Clear        20451\n",
       "1  AM_norush          Fog/Mist          157\n",
       "2  AM_norush              Rain         2404\n",
       "3  AM_norush  Severe Crosswind           67\n",
       "4  AM_norush              Snow          400"
      ]
     },
     "execution_count": 26,
     "metadata": {},
     "output_type": "execute_result"
    }
   ],
   "source": [
    "# link between time and weather - getting the counts for source and destination linkage \n",
    "time_weather = crash_data[['STREETSEGID','Time_cat','weather_cat']].groupby(['Time_cat','weather_cat']).count().reset_index()\n",
    "time_weather.head()"
   ]
  },
  {
   "cell_type": "code",
   "execution_count": 42,
   "metadata": {
    "collapsed": false
   },
   "outputs": [
    {
     "name": "stdout",
     "output_type": "stream",
     "text": [
      "     Time_cat       weather_cat  count\n",
      "0   AM_norush             Clear  20451\n",
      "1   AM_norush          Fog/Mist    157\n",
      "2   AM_norush              Rain   2404\n",
      "3   AM_norush  Severe Crosswind     67\n",
      "4   AM_norush              Snow    400\n",
      "5   AM_norush            others   1496\n",
      "6     AM_rush             Clear  16006\n",
      "7     AM_rush          Fog/Mist    289\n",
      "8     AM_rush              Rain   2032\n",
      "9     AM_rush  Severe Crosswind     58\n",
      "10    AM_rush              Snow    395\n",
      "11    AM_rush            others   1409\n",
      "12    Evening             Clear  14753\n",
      "13    Evening          Fog/Mist    183\n",
      "14    Evening              Rain   2336\n",
      "15    Evening  Severe Crosswind     52\n",
      "16    Evening              Snow    264\n",
      "17    Evening            others   1449\n",
      "18  Overnight             Clear  15031\n",
      "19  Overnight          Fog/Mist    254\n",
      "20  Overnight              Rain   1960\n",
      "21  Overnight  Severe Crosswind     52\n",
      "22  Overnight              Snow    301\n",
      "23  Overnight            others   1375\n",
      "24  PM_norush             Clear  19807\n",
      "25  PM_norush          Fog/Mist    130\n",
      "26  PM_norush              Rain   2029\n",
      "27  PM_norush  Severe Crosswind     91\n",
      "28  PM_norush              Snow    337\n",
      "29  PM_norush            others   1340\n"
     ]
    }
   ],
   "source": [
    "time_weather.columns = ['Time_cat','weather_cat','count']\n",
    "print time_weather\n",
    "# export dataframe to csv\n",
    "time_weather.to_csv('time_weather.csv')"
   ]
  },
  {
   "cell_type": "code",
   "execution_count": 35,
   "metadata": {
    "collapsed": false
   },
   "outputs": [],
   "source": [
    "# null values or spaces\n",
    "def func(row):\n",
    "    if row['ACCIDENTTYPE'] == '' or row['ACCIDENTTYPE'] == ' ':\n",
    "        return 'Unknown'\n",
    "    else:\n",
    "        return row['ACCIDENTTYPE']\n",
    "crash_data['accident_cat'] = crash_data.apply(func, axis=1)"
   ]
  },
  {
   "cell_type": "code",
   "execution_count": 36,
   "metadata": {
    "collapsed": false
   },
   "outputs": [
    {
     "data": {
      "text/html": [
       "<div>\n",
       "<table border=\"1\" class=\"dataframe\">\n",
       "  <thead>\n",
       "    <tr style=\"text-align: right;\">\n",
       "      <th></th>\n",
       "      <th>accident_cat</th>\n",
       "      <th>ACCIDENTTYPE</th>\n",
       "    </tr>\n",
       "  </thead>\n",
       "  <tbody>\n",
       "    <tr>\n",
       "      <th>0</th>\n",
       "      <td>Unknown</td>\n",
       "      <td></td>\n",
       "    </tr>\n",
       "    <tr>\n",
       "      <th>1</th>\n",
       "      <td>Prop. Damage</td>\n",
       "      <td>Prop. Damage</td>\n",
       "    </tr>\n",
       "    <tr>\n",
       "      <th>2</th>\n",
       "      <td>Prop. Damage</td>\n",
       "      <td>Prop. Damage</td>\n",
       "    </tr>\n",
       "    <tr>\n",
       "      <th>3</th>\n",
       "      <td>Unknown</td>\n",
       "      <td></td>\n",
       "    </tr>\n",
       "    <tr>\n",
       "      <th>4</th>\n",
       "      <td>Prop. Damage</td>\n",
       "      <td>Prop. Damage</td>\n",
       "    </tr>\n",
       "  </tbody>\n",
       "</table>\n",
       "</div>"
      ],
      "text/plain": [
       "   accident_cat  ACCIDENTTYPE\n",
       "0       Unknown              \n",
       "1  Prop. Damage  Prop. Damage\n",
       "2  Prop. Damage  Prop. Damage\n",
       "3       Unknown              \n",
       "4  Prop. Damage  Prop. Damage"
      ]
     },
     "execution_count": 36,
     "metadata": {},
     "output_type": "execute_result"
    }
   ],
   "source": [
    "crash_data[['accident_cat','ACCIDENTTYPE']].head()"
   ]
  },
  {
   "cell_type": "code",
   "execution_count": 41,
   "metadata": {
    "collapsed": false
   },
   "outputs": [
    {
     "name": "stdout",
     "output_type": "stream",
     "text": [
      "         weather_cat  accident_cat  count\n",
      "0              Clear      Fatality    109\n",
      "1              Clear        Injury  20135\n",
      "2              Clear  Prop. Damage  35953\n",
      "3              Clear       Unknown  29851\n",
      "4           Fog/Mist      Fatality      2\n",
      "5           Fog/Mist        Injury    222\n",
      "6           Fog/Mist  Prop. Damage    450\n",
      "7           Fog/Mist       Unknown    339\n",
      "8               Rain      Fatality      8\n",
      "9               Rain        Injury   2588\n",
      "10              Rain  Prop. Damage   4641\n",
      "11              Rain       Unknown   3524\n",
      "12  Severe Crosswind      Fatality      1\n",
      "13  Severe Crosswind        Injury     67\n",
      "14  Severe Crosswind  Prop. Damage    145\n",
      "15  Severe Crosswind       Unknown    107\n",
      "16              Snow      Fatality      2\n",
      "17              Snow        Injury    297\n",
      "18              Snow  Prop. Damage    710\n",
      "19              Snow       Unknown    688\n",
      "20            others      Fatality      6\n",
      "21            others        Injury   1089\n",
      "22            others  Prop. Damage   2523\n",
      "23            others       Unknown   3451\n"
     ]
    }
   ],
   "source": [
    "# link between weather and accident type - getting the counts for source and destination linkage \n",
    "weather_accidenttype = crash_data[['STREETSEGID','weather_cat','accident_cat']].groupby(['weather_cat','accident_cat']).count().reset_index()\n",
    "weather_accidenttype.columns = ['weather_cat','accident_cat','count']\n",
    "print weather_accidenttype\n",
    "weather_accidenttype.to_csv('weather_accidenttype.csv')"
   ]
  },
  {
   "cell_type": "code",
   "execution_count": 50,
   "metadata": {
    "collapsed": false
   },
   "outputs": [
    {
     "data": {
      "text/html": [
       "<div>\n",
       "<table border=\"1\" class=\"dataframe\">\n",
       "  <thead>\n",
       "    <tr style=\"text-align: right;\">\n",
       "      <th></th>\n",
       "      <th>MILITARYTIME</th>\n",
       "      <th>STREETSEGI</th>\n",
       "      <th>ward</th>\n",
       "    </tr>\n",
       "  </thead>\n",
       "  <tbody>\n",
       "    <tr>\n",
       "      <th>0</th>\n",
       "      <td>1254</td>\n",
       "      <td>2356</td>\n",
       "      <td>Ward 3</td>\n",
       "    </tr>\n",
       "    <tr>\n",
       "      <th>1</th>\n",
       "      <td>1626</td>\n",
       "      <td>7198</td>\n",
       "      <td>Ward 3</td>\n",
       "    </tr>\n",
       "    <tr>\n",
       "      <th>2</th>\n",
       "      <td>1615</td>\n",
       "      <td>10734</td>\n",
       "      <td>Ward 3</td>\n",
       "    </tr>\n",
       "    <tr>\n",
       "      <th>3</th>\n",
       "      <td>945</td>\n",
       "      <td>3429</td>\n",
       "      <td>Ward 3</td>\n",
       "    </tr>\n",
       "    <tr>\n",
       "      <th>4</th>\n",
       "      <td>2030</td>\n",
       "      <td>927</td>\n",
       "      <td>Ward 3</td>\n",
       "    </tr>\n",
       "  </tbody>\n",
       "</table>\n",
       "</div>"
      ],
      "text/plain": [
       "   MILITARYTIME  STREETSEGI    ward\n",
       "0          1254        2356  Ward 3\n",
       "1          1626        7198  Ward 3\n",
       "2          1615       10734  Ward 3\n",
       "3           945        3429  Ward 3\n",
       "4          2030         927  Ward 3"
      ]
     },
     "execution_count": 50,
     "metadata": {},
     "output_type": "execute_result"
    }
   ],
   "source": [
    "# get ward data from Alexis\n",
    "crash_data2 = pd.read_csv('ward_crash_short.csv')\n",
    "crash_data2.columns = ['MILITARYTIME','STREETSEGI','ward']\n",
    "crash_data2.head()"
   ]
  },
  {
   "cell_type": "code",
   "execution_count": 55,
   "metadata": {
    "collapsed": false
   },
   "outputs": [
    {
     "data": {
      "text/html": [
       "<div>\n",
       "<table border=\"1\" class=\"dataframe\">\n",
       "  <thead>\n",
       "    <tr style=\"text-align: right;\">\n",
       "      <th></th>\n",
       "      <th>MILITARYTIME</th>\n",
       "      <th>STREETSEGI</th>\n",
       "      <th>ward</th>\n",
       "      <th>Time_cat</th>\n",
       "    </tr>\n",
       "  </thead>\n",
       "  <tbody>\n",
       "    <tr>\n",
       "      <th>0</th>\n",
       "      <td>1254</td>\n",
       "      <td>2356</td>\n",
       "      <td>Ward 3</td>\n",
       "      <td>PM_norush</td>\n",
       "    </tr>\n",
       "    <tr>\n",
       "      <th>1</th>\n",
       "      <td>1626</td>\n",
       "      <td>7198</td>\n",
       "      <td>Ward 3</td>\n",
       "      <td>AM_norush</td>\n",
       "    </tr>\n",
       "    <tr>\n",
       "      <th>2</th>\n",
       "      <td>1615</td>\n",
       "      <td>10734</td>\n",
       "      <td>Ward 3</td>\n",
       "      <td>AM_norush</td>\n",
       "    </tr>\n",
       "    <tr>\n",
       "      <th>3</th>\n",
       "      <td>945</td>\n",
       "      <td>3429</td>\n",
       "      <td>Ward 3</td>\n",
       "      <td>AM_rush</td>\n",
       "    </tr>\n",
       "    <tr>\n",
       "      <th>4</th>\n",
       "      <td>2030</td>\n",
       "      <td>927</td>\n",
       "      <td>Ward 3</td>\n",
       "      <td>Evening</td>\n",
       "    </tr>\n",
       "  </tbody>\n",
       "</table>\n",
       "</div>"
      ],
      "text/plain": [
       "   MILITARYTIME  STREETSEGI    ward   Time_cat\n",
       "0          1254        2356  Ward 3  PM_norush\n",
       "1          1626        7198  Ward 3  AM_norush\n",
       "2          1615       10734  Ward 3  AM_norush\n",
       "3           945        3429  Ward 3    AM_rush\n",
       "4          2030         927  Ward 3    Evening"
      ]
     },
     "execution_count": 55,
     "metadata": {},
     "output_type": "execute_result"
    }
   ],
   "source": [
    "# classify time\n",
    "crash_data2['Time_cat'] = \"NA\"\n",
    "def func(row):\n",
    "    if row['MILITARYTIME'] >= 0 and row['MILITARYTIME'] < 0700:\n",
    "        return 'Overnight'\n",
    "    elif row['MILITARYTIME'] >= 0700 and row['MILITARYTIME'] < 1000:\n",
    "        return 'AM_rush'\n",
    "    elif row['MILITARYTIME'] >= 1000 and row['MILITARYTIME'] < 1200:\n",
    "        return 'AM_norush'\n",
    "    elif row['MILITARYTIME'] >= 1200 and row['MILITARYTIME'] < 1600:\n",
    "        return 'PM_norush'\n",
    "    elif row['MILITARYTIME'] >= 1600 and row['MILITARYTIME'] < 1800:\n",
    "        return 'AM_norush'\n",
    "    elif row['MILITARYTIME'] >= 1800 and row['MILITARYTIME'] < 2200:\n",
    "        return 'Evening'\n",
    "    elif row['MILITARYTIME'] >= 2200:\n",
    "        return 'Overnight'\n",
    "    else:\n",
    "        return 'NoTime'\n",
    "crash_data2['Time_cat'] = crash_data.apply(func, axis=1)\n",
    "crash_data2.head()"
   ]
  },
  {
   "cell_type": "code",
   "execution_count": 56,
   "metadata": {
    "collapsed": false
   },
   "outputs": [
    {
     "name": "stdout",
     "output_type": "stream",
     "text": [
      "      NAME   Time_cat  count\n",
      "0   Ward 1  AM_norush   2257\n",
      "1   Ward 1    AM_rush   1693\n",
      "2   Ward 1    Evening   1702\n",
      "3   Ward 1  Overnight   2069\n",
      "4   Ward 1  PM_norush   2116\n",
      "5   Ward 2  AM_norush   6058\n",
      "6   Ward 2    AM_rush   4649\n",
      "7   Ward 2    Evening   4570\n",
      "8   Ward 2  Overnight   4856\n",
      "9   Ward 2  PM_norush   5452\n",
      "10  Ward 3  AM_norush   1877\n",
      "11  Ward 3    AM_rush   1481\n",
      "12  Ward 3    Evening   1344\n",
      "13  Ward 3  Overnight    819\n",
      "14  Ward 3  PM_norush   1830\n",
      "15  Ward 4  AM_norush   2164\n",
      "16  Ward 4    AM_rush   1729\n",
      "17  Ward 4    Evening   1630\n",
      "18  Ward 4  Overnight   1666\n",
      "19  Ward 4  PM_norush   2023\n",
      "20  Ward 5  AM_norush   3706\n",
      "21  Ward 5    AM_rush   3201\n",
      "22  Ward 5    Evening   2725\n",
      "23  Ward 5  Overnight   2780\n",
      "24  Ward 5  PM_norush   3744\n",
      "25  Ward 6  AM_norush   3874\n",
      "26  Ward 6    AM_rush   3304\n",
      "27  Ward 6    Evening   2834\n",
      "28  Ward 6  Overnight   2740\n",
      "29  Ward 6  PM_norush   3788\n",
      "30  Ward 7  AM_norush   2676\n",
      "31  Ward 7    AM_rush   2148\n",
      "32  Ward 7    Evening   2536\n",
      "33  Ward 7  Overnight   2351\n",
      "34  Ward 7  PM_norush   2487\n",
      "35  Ward 8  AM_norush   2330\n",
      "36  Ward 8    AM_rush   1958\n",
      "37  Ward 8    Evening   1665\n",
      "38  Ward 8  Overnight   1674\n",
      "39  Ward 8  PM_norush   2266\n"
     ]
    }
   ],
   "source": [
    "# link between ward and time - getting the counts for source and destination linkage \n",
    "ward_time = crash_data2[['STREETSEGI','ward','Time_cat']].groupby(['ward','Time_cat']).count().reset_index()\n",
    "ward_time.columns = ['NAME','Time_cat','count']\n",
    "print ward_time\n",
    "ward_time.to_csv('ward_time.csv')"
   ]
  },
  {
   "cell_type": "code",
   "execution_count": null,
   "metadata": {
    "collapsed": true
   },
   "outputs": [],
   "source": []
  }
 ],
 "metadata": {
  "kernelspec": {
   "display_name": "Python 2",
   "language": "python",
   "name": "python2"
  },
  "language_info": {
   "codemirror_mode": {
    "name": "ipython",
    "version": 2
   },
   "file_extension": ".py",
   "mimetype": "text/x-python",
   "name": "python",
   "nbconvert_exporter": "python",
   "pygments_lexer": "ipython2",
   "version": "2.7.10"
  }
 },
 "nbformat": 4,
 "nbformat_minor": 0
}
